{
 "cells": [
  {
   "cell_type": "code",
   "execution_count": 1,
   "metadata": {},
   "outputs": [],
   "source": [
    "import pandas as pd\n",
    "import numpy as np\n",
    "import seaborn as sns\n",
    "import matplotlib.pyplot as plt\n",
    "from dateutil.parser import parse\n",
    "import datetime"
   ]
  },
  {
   "cell_type": "code",
   "execution_count": 29,
   "metadata": {},
   "outputs": [
    {
     "name": "stderr",
     "output_type": "stream",
     "text": [
      "C:\\Users\\EASY\\anaconda3\\lib\\site-packages\\IPython\\core\\interactiveshell.py:3146: DtypeWarning: Columns (22,23) have mixed types.Specify dtype option on import or set low_memory=False.\n",
      "  has_raised = await self.run_ast_nodes(code_ast.body, cell_name,\n"
     ]
    }
   ],
   "source": [
    "# Ouverture fichier tickets\n",
    "tickets = pd.read_csv('data/TicketsHistory.csv')\n"
   ]
  },
  {
   "cell_type": "code",
   "execution_count": 3,
   "metadata": {},
   "outputs": [
    {
     "data": {
      "text/html": [
       "<div>\n",
       "<style scoped>\n",
       "    .dataframe tbody tr th:only-of-type {\n",
       "        vertical-align: middle;\n",
       "    }\n",
       "\n",
       "    .dataframe tbody tr th {\n",
       "        vertical-align: top;\n",
       "    }\n",
       "\n",
       "    .dataframe thead th {\n",
       "        text-align: right;\n",
       "    }\n",
       "</style>\n",
       "<table border=\"1\" class=\"dataframe\">\n",
       "  <thead>\n",
       "    <tr style=\"text-align: right;\">\n",
       "      <th></th>\n",
       "      <th>Unnamed: 0</th>\n",
       "      <th>company</th>\n",
       "      <th>departure_ts</th>\n",
       "      <th>arrival_ts</th>\n",
       "      <th>price_in_cents</th>\n",
       "      <th>search_ts</th>\n",
       "      <th>o_city_name</th>\n",
       "      <th>o_city_latitude</th>\n",
       "      <th>o_city_longitude</th>\n",
       "      <th>d_city_name</th>\n",
       "      <th>...</th>\n",
       "      <th>d_station_name</th>\n",
       "      <th>d_station_latitude</th>\n",
       "      <th>d_station_longitude</th>\n",
       "      <th>travel_duration</th>\n",
       "      <th>classe_time</th>\n",
       "      <th>distance (km)</th>\n",
       "      <th>classe_distance</th>\n",
       "      <th>has_adjustable_seats</th>\n",
       "      <th>has_wifi</th>\n",
       "      <th>transport_type</th>\n",
       "    </tr>\n",
       "  </thead>\n",
       "  <tbody>\n",
       "    <tr>\n",
       "      <th>0</th>\n",
       "      <td>0</td>\n",
       "      <td>8385</td>\n",
       "      <td>2017-10-13 14:00:00+00:00</td>\n",
       "      <td>2017-10-13 20:10:00+00:00</td>\n",
       "      <td>4550</td>\n",
       "      <td>2017-10-01 00:13:31.327000+00:00</td>\n",
       "      <td>orleans</td>\n",
       "      <td>47.907018</td>\n",
       "      <td>1.90627</td>\n",
       "      <td>montpellier</td>\n",
       "      <td>...</td>\n",
       "      <td>NaN</td>\n",
       "      <td>NaN</td>\n",
       "      <td>NaN</td>\n",
       "      <td>0 days 06:10:00</td>\n",
       "      <td>short</td>\n",
       "      <td>503.197862</td>\n",
       "      <td>medium</td>\n",
       "      <td>False</td>\n",
       "      <td>False</td>\n",
       "      <td>carpooling</td>\n",
       "    </tr>\n",
       "    <tr>\n",
       "      <th>1</th>\n",
       "      <td>1</td>\n",
       "      <td>9</td>\n",
       "      <td>2017-10-13 13:05:00+00:00</td>\n",
       "      <td>2017-10-14 06:55:00+00:00</td>\n",
       "      <td>1450</td>\n",
       "      <td>2017-10-01 00:13:35.773000+00:00</td>\n",
       "      <td>orleans</td>\n",
       "      <td>47.907018</td>\n",
       "      <td>1.90627</td>\n",
       "      <td>montpellier</td>\n",
       "      <td>...</td>\n",
       "      <td>Station Les Sabines</td>\n",
       "      <td>43.583932</td>\n",
       "      <td>3.860233</td>\n",
       "      <td>0 days 17:50:00</td>\n",
       "      <td>too_long</td>\n",
       "      <td>503.197862</td>\n",
       "      <td>medium</td>\n",
       "      <td>True</td>\n",
       "      <td>True</td>\n",
       "      <td>bus</td>\n",
       "    </tr>\n",
       "    <tr>\n",
       "      <th>2</th>\n",
       "      <td>2</td>\n",
       "      <td>8377</td>\n",
       "      <td>2017-10-13 13:27:00+00:00</td>\n",
       "      <td>2017-10-14 21:24:00+00:00</td>\n",
       "      <td>7400</td>\n",
       "      <td>2017-10-01 00:13:40.212000+00:00</td>\n",
       "      <td>orleans</td>\n",
       "      <td>47.907018</td>\n",
       "      <td>1.90627</td>\n",
       "      <td>montpellier</td>\n",
       "      <td>...</td>\n",
       "      <td>Montpellier</td>\n",
       "      <td>43.604900</td>\n",
       "      <td>3.880500</td>\n",
       "      <td>1 days 07:57:00</td>\n",
       "      <td>too_long</td>\n",
       "      <td>503.197862</td>\n",
       "      <td>medium</td>\n",
       "      <td>True</td>\n",
       "      <td>False</td>\n",
       "      <td>train</td>\n",
       "    </tr>\n",
       "    <tr>\n",
       "      <th>3</th>\n",
       "      <td>3</td>\n",
       "      <td>8377</td>\n",
       "      <td>2017-10-13 13:27:00+00:00</td>\n",
       "      <td>2017-10-14 11:02:00+00:00</td>\n",
       "      <td>13500</td>\n",
       "      <td>2017-10-01 00:13:40.213000+00:00</td>\n",
       "      <td>orleans</td>\n",
       "      <td>47.907018</td>\n",
       "      <td>1.90627</td>\n",
       "      <td>montpellier</td>\n",
       "      <td>...</td>\n",
       "      <td>Montpellier</td>\n",
       "      <td>43.604900</td>\n",
       "      <td>3.880500</td>\n",
       "      <td>0 days 21:35:00</td>\n",
       "      <td>too_long</td>\n",
       "      <td>503.197862</td>\n",
       "      <td>medium</td>\n",
       "      <td>True</td>\n",
       "      <td>False</td>\n",
       "      <td>train</td>\n",
       "    </tr>\n",
       "    <tr>\n",
       "      <th>4</th>\n",
       "      <td>4</td>\n",
       "      <td>8381</td>\n",
       "      <td>2017-10-13 21:46:00+00:00</td>\n",
       "      <td>2017-10-14 19:32:00+00:00</td>\n",
       "      <td>7710</td>\n",
       "      <td>2017-10-01 00:13:40.213000+00:00</td>\n",
       "      <td>orleans</td>\n",
       "      <td>47.907018</td>\n",
       "      <td>1.90627</td>\n",
       "      <td>montpellier</td>\n",
       "      <td>...</td>\n",
       "      <td>Montpellier</td>\n",
       "      <td>43.604900</td>\n",
       "      <td>3.880500</td>\n",
       "      <td>0 days 21:46:00</td>\n",
       "      <td>too_long</td>\n",
       "      <td>503.197862</td>\n",
       "      <td>medium</td>\n",
       "      <td>True</td>\n",
       "      <td>False</td>\n",
       "      <td>train</td>\n",
       "    </tr>\n",
       "  </tbody>\n",
       "</table>\n",
       "<p>5 rows × 25 columns</p>\n",
       "</div>"
      ],
      "text/plain": [
       "   Unnamed: 0  company               departure_ts                 arrival_ts  \\\n",
       "0           0     8385  2017-10-13 14:00:00+00:00  2017-10-13 20:10:00+00:00   \n",
       "1           1        9  2017-10-13 13:05:00+00:00  2017-10-14 06:55:00+00:00   \n",
       "2           2     8377  2017-10-13 13:27:00+00:00  2017-10-14 21:24:00+00:00   \n",
       "3           3     8377  2017-10-13 13:27:00+00:00  2017-10-14 11:02:00+00:00   \n",
       "4           4     8381  2017-10-13 21:46:00+00:00  2017-10-14 19:32:00+00:00   \n",
       "\n",
       "   price_in_cents                         search_ts o_city_name  \\\n",
       "0            4550  2017-10-01 00:13:31.327000+00:00     orleans   \n",
       "1            1450  2017-10-01 00:13:35.773000+00:00     orleans   \n",
       "2            7400  2017-10-01 00:13:40.212000+00:00     orleans   \n",
       "3           13500  2017-10-01 00:13:40.213000+00:00     orleans   \n",
       "4            7710  2017-10-01 00:13:40.213000+00:00     orleans   \n",
       "\n",
       "   o_city_latitude  o_city_longitude  d_city_name  ...       d_station_name  \\\n",
       "0        47.907018           1.90627  montpellier  ...                  NaN   \n",
       "1        47.907018           1.90627  montpellier  ...  Station Les Sabines   \n",
       "2        47.907018           1.90627  montpellier  ...          Montpellier   \n",
       "3        47.907018           1.90627  montpellier  ...          Montpellier   \n",
       "4        47.907018           1.90627  montpellier  ...          Montpellier   \n",
       "\n",
       "   d_station_latitude d_station_longitude  travel_duration  classe_time  \\\n",
       "0                 NaN                 NaN  0 days 06:10:00        short   \n",
       "1           43.583932            3.860233  0 days 17:50:00     too_long   \n",
       "2           43.604900            3.880500  1 days 07:57:00     too_long   \n",
       "3           43.604900            3.880500  0 days 21:35:00     too_long   \n",
       "4           43.604900            3.880500  0 days 21:46:00     too_long   \n",
       "\n",
       "  distance (km)  classe_distance  has_adjustable_seats has_wifi transport_type  \n",
       "0    503.197862           medium                 False    False     carpooling  \n",
       "1    503.197862           medium                  True     True            bus  \n",
       "2    503.197862           medium                  True    False          train  \n",
       "3    503.197862           medium                  True    False          train  \n",
       "4    503.197862           medium                  True    False          train  \n",
       "\n",
       "[5 rows x 25 columns]"
      ]
     },
     "execution_count": 3,
     "metadata": {},
     "output_type": "execute_result"
    }
   ],
   "source": [
    "tickets.head()\n"
   ]
  },
  {
   "cell_type": "code",
   "execution_count": 4,
   "metadata": {},
   "outputs": [
    {
     "data": {
      "text/plain": [
       "(74168, 25)"
      ]
     },
     "execution_count": 4,
     "metadata": {},
     "output_type": "execute_result"
    }
   ],
   "source": [
    "tickets.shape\n"
   ]
  },
  {
   "cell_type": "markdown",
   "metadata": {},
   "source": [
    "#Question :  durée min/max/moyenne par trajet"
   ]
  },
  {
   "cell_type": "code",
   "execution_count": 5,
   "metadata": {},
   "outputs": [
    {
     "data": {
      "text/plain": [
       "count               74168\n",
       "unique               1819\n",
       "top       0 days 02:30:00\n",
       "freq                 2795\n",
       "Name: travel_duration, dtype: object"
      ]
     },
     "execution_count": 5,
     "metadata": {},
     "output_type": "execute_result"
    }
   ],
   "source": [
    "tickets['travel_duration'].describe() "
   ]
  },
  {
   "cell_type": "markdown",
   "metadata": {},
   "source": [
    "#Question prix min, moyen et max par trajet"
   ]
  },
  {
   "cell_type": "code",
   "execution_count": 6,
   "metadata": {},
   "outputs": [
    {
     "data": {
      "text/plain": [
       "count    74168.000000\n",
       "mean      4382.711061\n",
       "std       3739.325367\n",
       "min        300.000000\n",
       "25%       1900.000000\n",
       "50%       3350.000000\n",
       "75%       5250.000000\n",
       "max      38550.000000\n",
       "Name: price_in_cents, dtype: float64"
      ]
     },
     "execution_count": 6,
     "metadata": {},
     "output_type": "execute_result"
    }
   ],
   "source": [
    "tickets['price_in_cents'].describe() "
   ]
  },
  {
   "cell_type": "code",
   "execution_count": 7,
   "metadata": {},
   "outputs": [
    {
     "data": {
      "text/plain": [
       "count    74168.000000\n",
       "mean       363.038682\n",
       "std        194.930883\n",
       "min         18.913268\n",
       "25%        205.842875\n",
       "50%        338.320602\n",
       "75%        480.414483\n",
       "max       1870.174604\n",
       "Name: distance (km), dtype: float64"
      ]
     },
     "execution_count": 7,
     "metadata": {},
     "output_type": "execute_result"
    }
   ],
   "source": [
    "tickets['distance (km)'].describe() "
   ]
  },
  {
   "cell_type": "code",
   "execution_count": 8,
   "metadata": {},
   "outputs": [
    {
     "data": {
      "text/html": [
       "<div>\n",
       "<style scoped>\n",
       "    .dataframe tbody tr th:only-of-type {\n",
       "        vertical-align: middle;\n",
       "    }\n",
       "\n",
       "    .dataframe tbody tr th {\n",
       "        vertical-align: top;\n",
       "    }\n",
       "\n",
       "    .dataframe thead th {\n",
       "        text-align: right;\n",
       "    }\n",
       "</style>\n",
       "<table border=\"1\" class=\"dataframe\">\n",
       "  <thead>\n",
       "    <tr style=\"text-align: right;\">\n",
       "      <th></th>\n",
       "      <th>count</th>\n",
       "      <th>unique</th>\n",
       "      <th>top</th>\n",
       "      <th>freq</th>\n",
       "    </tr>\n",
       "    <tr>\n",
       "      <th>transport_type</th>\n",
       "      <th></th>\n",
       "      <th></th>\n",
       "      <th></th>\n",
       "      <th></th>\n",
       "    </tr>\n",
       "  </thead>\n",
       "  <tbody>\n",
       "    <tr>\n",
       "      <th>bus</th>\n",
       "      <td>13798</td>\n",
       "      <td>678</td>\n",
       "      <td>0 days 10:20:00</td>\n",
       "      <td>169</td>\n",
       "    </tr>\n",
       "    <tr>\n",
       "      <th>carpooling</th>\n",
       "      <td>41441</td>\n",
       "      <td>113</td>\n",
       "      <td>0 days 02:30:00</td>\n",
       "      <td>2764</td>\n",
       "    </tr>\n",
       "    <tr>\n",
       "      <th>train</th>\n",
       "      <td>18929</td>\n",
       "      <td>1581</td>\n",
       "      <td>0 days 03:47:00</td>\n",
       "      <td>212</td>\n",
       "    </tr>\n",
       "  </tbody>\n",
       "</table>\n",
       "</div>"
      ],
      "text/plain": [
       "                count unique              top  freq\n",
       "transport_type                                     \n",
       "bus             13798    678  0 days 10:20:00   169\n",
       "carpooling      41441    113  0 days 02:30:00  2764\n",
       "train           18929   1581  0 days 03:47:00   212"
      ]
     },
     "execution_count": 8,
     "metadata": {},
     "output_type": "execute_result"
    }
   ],
   "source": [
    "tickets.groupby(['transport_type'])['travel_duration'].describe() "
   ]
  },
  {
   "cell_type": "code",
   "execution_count": 9,
   "metadata": {},
   "outputs": [
    {
     "data": {
      "text/html": [
       "<div>\n",
       "<style scoped>\n",
       "    .dataframe tbody tr th:only-of-type {\n",
       "        vertical-align: middle;\n",
       "    }\n",
       "\n",
       "    .dataframe tbody tr th {\n",
       "        vertical-align: top;\n",
       "    }\n",
       "\n",
       "    .dataframe thead th {\n",
       "        text-align: right;\n",
       "    }\n",
       "</style>\n",
       "<table border=\"1\" class=\"dataframe\">\n",
       "  <thead>\n",
       "    <tr style=\"text-align: right;\">\n",
       "      <th></th>\n",
       "      <th>count</th>\n",
       "      <th>mean</th>\n",
       "      <th>std</th>\n",
       "      <th>min</th>\n",
       "      <th>25%</th>\n",
       "      <th>50%</th>\n",
       "      <th>75%</th>\n",
       "      <th>max</th>\n",
       "    </tr>\n",
       "    <tr>\n",
       "      <th>transport_type</th>\n",
       "      <th></th>\n",
       "      <th></th>\n",
       "      <th></th>\n",
       "      <th></th>\n",
       "      <th></th>\n",
       "      <th></th>\n",
       "      <th></th>\n",
       "      <th></th>\n",
       "    </tr>\n",
       "  </thead>\n",
       "  <tbody>\n",
       "    <tr>\n",
       "      <th>bus</th>\n",
       "      <td>13798.0</td>\n",
       "      <td>3652.448036</td>\n",
       "      <td>1913.197779</td>\n",
       "      <td>850.0</td>\n",
       "      <td>2390.0</td>\n",
       "      <td>3300.0</td>\n",
       "      <td>4400.0</td>\n",
       "      <td>22900.0</td>\n",
       "    </tr>\n",
       "    <tr>\n",
       "      <th>carpooling</th>\n",
       "      <td>41441.0</td>\n",
       "      <td>2742.171907</td>\n",
       "      <td>1501.934054</td>\n",
       "      <td>300.0</td>\n",
       "      <td>1550.0</td>\n",
       "      <td>2500.0</td>\n",
       "      <td>3600.0</td>\n",
       "      <td>16150.0</td>\n",
       "    </tr>\n",
       "    <tr>\n",
       "      <th>train</th>\n",
       "      <td>18929.0</td>\n",
       "      <td>8506.634793</td>\n",
       "      <td>4888.064503</td>\n",
       "      <td>490.0</td>\n",
       "      <td>4800.0</td>\n",
       "      <td>7540.0</td>\n",
       "      <td>11200.0</td>\n",
       "      <td>38550.0</td>\n",
       "    </tr>\n",
       "  </tbody>\n",
       "</table>\n",
       "</div>"
      ],
      "text/plain": [
       "                  count         mean          std    min     25%     50%  \\\n",
       "transport_type                                                             \n",
       "bus             13798.0  3652.448036  1913.197779  850.0  2390.0  3300.0   \n",
       "carpooling      41441.0  2742.171907  1501.934054  300.0  1550.0  2500.0   \n",
       "train           18929.0  8506.634793  4888.064503  490.0  4800.0  7540.0   \n",
       "\n",
       "                    75%      max  \n",
       "transport_type                    \n",
       "bus              4400.0  22900.0  \n",
       "carpooling       3600.0  16150.0  \n",
       "train           11200.0  38550.0  "
      ]
     },
     "execution_count": 9,
     "metadata": {},
     "output_type": "execute_result"
    }
   ],
   "source": [
    "tickets.groupby(['transport_type'])['price_in_cents'].describe() "
   ]
  },
  {
   "cell_type": "code",
   "execution_count": 10,
   "metadata": {},
   "outputs": [
    {
     "data": {
      "text/plain": [
       "array(['carpooling', 'bus', 'train'], dtype=object)"
      ]
     },
     "execution_count": 10,
     "metadata": {},
     "output_type": "execute_result"
    }
   ],
   "source": [
    "tickets.transport_type.unique()"
   ]
  },
  {
   "cell_type": "code",
   "execution_count": 11,
   "metadata": {
    "scrolled": true
   },
   "outputs": [
    {
     "data": {
      "image/png": "[encoded data removed]",
      "text/plain": [
       "<Figure size 864x360 with 1 Axes>"
      ]
     },
     "metadata": {
      "needs_background": "light"
     },
     "output_type": "display_data"
    }
   ],
   "source": [
    "tickets.groupby('transport_type').size().plot(kind = 'bar',figsize=(12,5));\n",
    "plt.title('transport_type',fontsize=15);\n",
    "plt.xlabel('transport_type',fontsize=15);\n",
    "plt.xticks(rotation=0);"
   ]
  },
  {
   "cell_type": "code",
   "execution_count": 12,
   "metadata": {},
   "outputs": [],
   "source": [
    "#Price per travel\n",
    "Price_info=tickets.groupby(['transport_type','o_city_name', 'd_city_name']).agg({'price_in_cents': ['count', 'min', 'max', 'mean']})\n"
   ]
  },
  {
   "cell_type": "code",
   "execution_count": 13,
   "metadata": {},
   "outputs": [
    {
     "data": {
      "text/html": [
       "<div>\n",
       "<style scoped>\n",
       "    .dataframe tbody tr th:only-of-type {\n",
       "        vertical-align: middle;\n",
       "    }\n",
       "\n",
       "    .dataframe tbody tr th {\n",
       "        vertical-align: top;\n",
       "    }\n",
       "\n",
       "    .dataframe thead tr th {\n",
       "        text-align: left;\n",
       "    }\n",
       "\n",
       "    .dataframe thead tr:last-of-type th {\n",
       "        text-align: right;\n",
       "    }\n",
       "</style>\n",
       "<table border=\"1\" class=\"dataframe\">\n",
       "  <thead>\n",
       "    <tr>\n",
       "      <th></th>\n",
       "      <th></th>\n",
       "      <th></th>\n",
       "      <th colspan=\"4\" halign=\"left\">price_in_cents</th>\n",
       "    </tr>\n",
       "    <tr>\n",
       "      <th></th>\n",
       "      <th></th>\n",
       "      <th></th>\n",
       "      <th>count</th>\n",
       "      <th>min</th>\n",
       "      <th>max</th>\n",
       "      <th>mean</th>\n",
       "    </tr>\n",
       "    <tr>\n",
       "      <th>transport_type</th>\n",
       "      <th>o_city_name</th>\n",
       "      <th>d_city_name</th>\n",
       "      <th></th>\n",
       "      <th></th>\n",
       "      <th></th>\n",
       "      <th></th>\n",
       "    </tr>\n",
       "  </thead>\n",
       "  <tbody>\n",
       "    <tr>\n",
       "      <th rowspan=\"5\" valign=\"top\">bus</th>\n",
       "      <th>aeroport-paris-vatry-</th>\n",
       "      <th>troyes</th>\n",
       "      <td>1</td>\n",
       "      <td>5300</td>\n",
       "      <td>5300</td>\n",
       "      <td>5300.000000</td>\n",
       "    </tr>\n",
       "    <tr>\n",
       "      <th rowspan=\"3\" valign=\"top\">agen</th>\n",
       "      <th>marseille</th>\n",
       "      <td>19</td>\n",
       "      <td>2000</td>\n",
       "      <td>8920</td>\n",
       "      <td>3104.210526</td>\n",
       "    </tr>\n",
       "    <tr>\n",
       "      <th>paris</th>\n",
       "      <td>4</td>\n",
       "      <td>2600</td>\n",
       "      <td>3190</td>\n",
       "      <td>2797.500000</td>\n",
       "    </tr>\n",
       "    <tr>\n",
       "      <th>toulouse</th>\n",
       "      <td>2</td>\n",
       "      <td>2420</td>\n",
       "      <td>2420</td>\n",
       "      <td>2420.000000</td>\n",
       "    </tr>\n",
       "    <tr>\n",
       "      <th>aix-en-provence</th>\n",
       "      <th>angers</th>\n",
       "      <td>2</td>\n",
       "      <td>5090</td>\n",
       "      <td>5290</td>\n",
       "      <td>5190.000000</td>\n",
       "    </tr>\n",
       "    <tr>\n",
       "      <th>...</th>\n",
       "      <th>...</th>\n",
       "      <th>...</th>\n",
       "      <td>...</td>\n",
       "      <td>...</td>\n",
       "      <td>...</td>\n",
       "      <td>...</td>\n",
       "    </tr>\n",
       "    <tr>\n",
       "      <th rowspan=\"5\" valign=\"top\">train</th>\n",
       "      <th>vesoul</th>\n",
       "      <th>paris</th>\n",
       "      <td>11</td>\n",
       "      <td>2700</td>\n",
       "      <td>6160</td>\n",
       "      <td>4600.000000</td>\n",
       "    </tr>\n",
       "    <tr>\n",
       "      <th rowspan=\"2\" valign=\"top\">vierzon</th>\n",
       "      <th>bordeaux</th>\n",
       "      <td>8</td>\n",
       "      <td>3450</td>\n",
       "      <td>6990</td>\n",
       "      <td>5612.500000</td>\n",
       "    </tr>\n",
       "    <tr>\n",
       "      <th>paris</th>\n",
       "      <td>31</td>\n",
       "      <td>1400</td>\n",
       "      <td>6600</td>\n",
       "      <td>3128.387097</td>\n",
       "    </tr>\n",
       "    <tr>\n",
       "      <th>villefranche-sur-cher</th>\n",
       "      <th>bordeaux</th>\n",
       "      <td>9</td>\n",
       "      <td>3060</td>\n",
       "      <td>7610</td>\n",
       "      <td>5686.666667</td>\n",
       "    </tr>\n",
       "    <tr>\n",
       "      <th>vitre</th>\n",
       "      <th>nice</th>\n",
       "      <td>2</td>\n",
       "      <td>15070</td>\n",
       "      <td>21920</td>\n",
       "      <td>18495.000000</td>\n",
       "    </tr>\n",
       "  </tbody>\n",
       "</table>\n",
       "<p>2704 rows × 4 columns</p>\n",
       "</div>"
      ],
      "text/plain": [
       "                                                 price_in_cents                \\\n",
       "                                                          count    min    max   \n",
       "transport_type o_city_name           d_city_name                                \n",
       "bus            aeroport-paris-vatry- troyes                   1   5300   5300   \n",
       "               agen                  marseille               19   2000   8920   \n",
       "                                     paris                    4   2600   3190   \n",
       "                                     toulouse                 2   2420   2420   \n",
       "               aix-en-provence       angers                   2   5090   5290   \n",
       "...                                                         ...    ...    ...   \n",
       "train          vesoul                paris                   11   2700   6160   \n",
       "               vierzon               bordeaux                 8   3450   6990   \n",
       "                                     paris                   31   1400   6600   \n",
       "               villefranche-sur-cher bordeaux                 9   3060   7610   \n",
       "               vitre                 nice                     2  15070  21920   \n",
       "\n",
       "                                                                \n",
       "                                                          mean  \n",
       "transport_type o_city_name           d_city_name                \n",
       "bus            aeroport-paris-vatry- troyes        5300.000000  \n",
       "               agen                  marseille     3104.210526  \n",
       "                                     paris         2797.500000  \n",
       "                                     toulouse      2420.000000  \n",
       "               aix-en-provence       angers        5190.000000  \n",
       "...                                                        ...  \n",
       "train          vesoul                paris         4600.000000  \n",
       "               vierzon               bordeaux      5612.500000  \n",
       "                                     paris         3128.387097  \n",
       "               villefranche-sur-cher bordeaux      5686.666667  \n",
       "               vitre                 nice         18495.000000  \n",
       "\n",
       "[2704 rows x 4 columns]"
      ]
     },
     "execution_count": 13,
     "metadata": {},
     "output_type": "execute_result"
    }
   ],
   "source": [
    "Price_info"
   ]
  },
  {
   "cell_type": "code",
   "execution_count": 14,
   "metadata": {},
   "outputs": [
    {
     "data": {
      "text/plain": [
       "price_in_cents  count     131.000000\n",
       "                min      3600.000000\n",
       "                max      8500.000000\n",
       "                mean     6819.083969\n",
       "Name: (carpooling, paris, nice), dtype: float64"
      ]
     },
     "execution_count": 14,
     "metadata": {},
     "output_type": "execute_result"
    }
   ],
   "source": [
    "Price_info.loc['carpooling','paris','nice']"
   ]
  },
  {
   "cell_type": "code",
   "execution_count": 15,
   "metadata": {},
   "outputs": [],
   "source": [
    "time_info=tickets.groupby(['transport_type','o_city_name', 'd_city_name'])['travel_duration'].describe()\n"
   ]
  },
  {
   "cell_type": "code",
   "execution_count": 16,
   "metadata": {},
   "outputs": [
    {
     "data": {
      "text/html": [
       "<div>\n",
       "<style scoped>\n",
       "    .dataframe tbody tr th:only-of-type {\n",
       "        vertical-align: middle;\n",
       "    }\n",
       "\n",
       "    .dataframe tbody tr th {\n",
       "        vertical-align: top;\n",
       "    }\n",
       "\n",
       "    .dataframe thead th {\n",
       "        text-align: right;\n",
       "    }\n",
       "</style>\n",
       "<table border=\"1\" class=\"dataframe\">\n",
       "  <thead>\n",
       "    <tr style=\"text-align: right;\">\n",
       "      <th></th>\n",
       "      <th></th>\n",
       "      <th></th>\n",
       "      <th>count</th>\n",
       "      <th>unique</th>\n",
       "      <th>top</th>\n",
       "      <th>freq</th>\n",
       "    </tr>\n",
       "    <tr>\n",
       "      <th>transport_type</th>\n",
       "      <th>o_city_name</th>\n",
       "      <th>d_city_name</th>\n",
       "      <th></th>\n",
       "      <th></th>\n",
       "      <th></th>\n",
       "      <th></th>\n",
       "    </tr>\n",
       "  </thead>\n",
       "  <tbody>\n",
       "    <tr>\n",
       "      <th rowspan=\"5\" valign=\"top\">bus</th>\n",
       "      <th>aeroport-paris-vatry-</th>\n",
       "      <th>troyes</th>\n",
       "      <td>1</td>\n",
       "      <td>1</td>\n",
       "      <td>0 days 21:55:00</td>\n",
       "      <td>1</td>\n",
       "    </tr>\n",
       "    <tr>\n",
       "      <th rowspan=\"3\" valign=\"top\">agen</th>\n",
       "      <th>marseille</th>\n",
       "      <td>19</td>\n",
       "      <td>10</td>\n",
       "      <td>0 days 09:00:00</td>\n",
       "      <td>2</td>\n",
       "    </tr>\n",
       "    <tr>\n",
       "      <th>paris</th>\n",
       "      <td>4</td>\n",
       "      <td>4</td>\n",
       "      <td>0 days 09:40:00</td>\n",
       "      <td>1</td>\n",
       "    </tr>\n",
       "    <tr>\n",
       "      <th>toulouse</th>\n",
       "      <td>2</td>\n",
       "      <td>1</td>\n",
       "      <td>0 days 04:11:00</td>\n",
       "      <td>2</td>\n",
       "    </tr>\n",
       "    <tr>\n",
       "      <th>aix-en-provence</th>\n",
       "      <th>angers</th>\n",
       "      <td>2</td>\n",
       "      <td>2</td>\n",
       "      <td>0 days 14:35:00</td>\n",
       "      <td>1</td>\n",
       "    </tr>\n",
       "    <tr>\n",
       "      <th>...</th>\n",
       "      <th>...</th>\n",
       "      <th>...</th>\n",
       "      <td>...</td>\n",
       "      <td>...</td>\n",
       "      <td>...</td>\n",
       "      <td>...</td>\n",
       "    </tr>\n",
       "    <tr>\n",
       "      <th rowspan=\"5\" valign=\"top\">train</th>\n",
       "      <th>vesoul</th>\n",
       "      <th>paris</th>\n",
       "      <td>11</td>\n",
       "      <td>11</td>\n",
       "      <td>0 days 03:28:00</td>\n",
       "      <td>1</td>\n",
       "    </tr>\n",
       "    <tr>\n",
       "      <th rowspan=\"2\" valign=\"top\">vierzon</th>\n",
       "      <th>bordeaux</th>\n",
       "      <td>8</td>\n",
       "      <td>8</td>\n",
       "      <td>0 days 04:28:00</td>\n",
       "      <td>1</td>\n",
       "    </tr>\n",
       "    <tr>\n",
       "      <th>paris</th>\n",
       "      <td>31</td>\n",
       "      <td>21</td>\n",
       "      <td>0 days 04:44:00</td>\n",
       "      <td>3</td>\n",
       "    </tr>\n",
       "    <tr>\n",
       "      <th>villefranche-sur-cher</th>\n",
       "      <th>bordeaux</th>\n",
       "      <td>9</td>\n",
       "      <td>9</td>\n",
       "      <td>0 days 03:10:00</td>\n",
       "      <td>1</td>\n",
       "    </tr>\n",
       "    <tr>\n",
       "      <th>vitre</th>\n",
       "      <th>nice</th>\n",
       "      <td>2</td>\n",
       "      <td>2</td>\n",
       "      <td>0 days 11:05:00</td>\n",
       "      <td>1</td>\n",
       "    </tr>\n",
       "  </tbody>\n",
       "</table>\n",
       "<p>2704 rows × 4 columns</p>\n",
       "</div>"
      ],
      "text/plain": [
       "                                                 count unique  \\\n",
       "transport_type o_city_name           d_city_name                \n",
       "bus            aeroport-paris-vatry- troyes          1      1   \n",
       "               agen                  marseille      19     10   \n",
       "                                     paris           4      4   \n",
       "                                     toulouse        2      1   \n",
       "               aix-en-provence       angers          2      2   \n",
       "...                                                ...    ...   \n",
       "train          vesoul                paris          11     11   \n",
       "               vierzon               bordeaux        8      8   \n",
       "                                     paris          31     21   \n",
       "               villefranche-sur-cher bordeaux        9      9   \n",
       "               vitre                 nice            2      2   \n",
       "\n",
       "                                                              top freq  \n",
       "transport_type o_city_name           d_city_name                        \n",
       "bus            aeroport-paris-vatry- troyes       0 days 21:55:00    1  \n",
       "               agen                  marseille    0 days 09:00:00    2  \n",
       "                                     paris        0 days 09:40:00    1  \n",
       "                                     toulouse     0 days 04:11:00    2  \n",
       "               aix-en-provence       angers       0 days 14:35:00    1  \n",
       "...                                                           ...  ...  \n",
       "train          vesoul                paris        0 days 03:28:00    1  \n",
       "               vierzon               bordeaux     0 days 04:28:00    1  \n",
       "                                     paris        0 days 04:44:00    3  \n",
       "               villefranche-sur-cher bordeaux     0 days 03:10:00    1  \n",
       "               vitre                 nice         0 days 11:05:00    1  \n",
       "\n",
       "[2704 rows x 4 columns]"
      ]
     },
     "execution_count": 16,
     "metadata": {},
     "output_type": "execute_result"
    }
   ],
   "source": [
    "time_info"
   ]
  },
  {
   "cell_type": "code",
   "execution_count": 17,
   "metadata": {},
   "outputs": [
    {
     "data": {
      "text/plain": [
       "count                 131\n",
       "unique                 21\n",
       "top       0 days 09:30:00\n",
       "freq                   19\n",
       "Name: (carpooling, paris, nice), dtype: object"
      ]
     },
     "execution_count": 17,
     "metadata": {},
     "output_type": "execute_result"
    }
   ],
   "source": [
    "time_info.loc['carpooling','paris','nice']"
   ]
  },
  {
   "cell_type": "markdown",
   "metadata": {},
   "source": [
    "différence de prix moyen et durée selon le train, le bus et le covoit selon la distance du trajet (0-200km, 201-800km, 800-2000km, 2000+km) "
   ]
  },
  {
   "cell_type": "code",
   "execution_count": 18,
   "metadata": {},
   "outputs": [
    {
     "data": {
      "text/html": [
       "<div>\n",
       "<style scoped>\n",
       "    .dataframe tbody tr th:only-of-type {\n",
       "        vertical-align: middle;\n",
       "    }\n",
       "\n",
       "    .dataframe tbody tr th {\n",
       "        vertical-align: top;\n",
       "    }\n",
       "\n",
       "    .dataframe thead th {\n",
       "        text-align: right;\n",
       "    }\n",
       "</style>\n",
       "<table border=\"1\" class=\"dataframe\">\n",
       "  <thead>\n",
       "    <tr style=\"text-align: right;\">\n",
       "      <th></th>\n",
       "      <th></th>\n",
       "      <th>count</th>\n",
       "      <th>unique</th>\n",
       "      <th>top</th>\n",
       "      <th>freq</th>\n",
       "    </tr>\n",
       "    <tr>\n",
       "      <th>classe_distance</th>\n",
       "      <th>transport_type</th>\n",
       "      <th></th>\n",
       "      <th></th>\n",
       "      <th></th>\n",
       "      <th></th>\n",
       "    </tr>\n",
       "  </thead>\n",
       "  <tbody>\n",
       "    <tr>\n",
       "      <th rowspan=\"3\" valign=\"top\">long</th>\n",
       "      <th>bus</th>\n",
       "      <td>1101</td>\n",
       "      <td>295</td>\n",
       "      <td>0 days 17:30:00</td>\n",
       "      <td>26</td>\n",
       "    </tr>\n",
       "    <tr>\n",
       "      <th>carpooling</th>\n",
       "      <td>143</td>\n",
       "      <td>49</td>\n",
       "      <td>0 days 10:10:00</td>\n",
       "      <td>12</td>\n",
       "    </tr>\n",
       "    <tr>\n",
       "      <th>train</th>\n",
       "      <td>323</td>\n",
       "      <td>207</td>\n",
       "      <td>0 days 08:06:00</td>\n",
       "      <td>12</td>\n",
       "    </tr>\n",
       "    <tr>\n",
       "      <th rowspan=\"3\" valign=\"top\">medium</th>\n",
       "      <th>bus</th>\n",
       "      <td>11455</td>\n",
       "      <td>528</td>\n",
       "      <td>0 days 10:20:00</td>\n",
       "      <td>165</td>\n",
       "    </tr>\n",
       "    <tr>\n",
       "      <th>carpooling</th>\n",
       "      <td>31255</td>\n",
       "      <td>83</td>\n",
       "      <td>0 days 02:30:00</td>\n",
       "      <td>1858</td>\n",
       "    </tr>\n",
       "    <tr>\n",
       "      <th>train</th>\n",
       "      <td>16167</td>\n",
       "      <td>1461</td>\n",
       "      <td>0 days 03:47:00</td>\n",
       "      <td>204</td>\n",
       "    </tr>\n",
       "    <tr>\n",
       "      <th rowspan=\"3\" valign=\"top\">short</th>\n",
       "      <th>bus</th>\n",
       "      <td>1242</td>\n",
       "      <td>308</td>\n",
       "      <td>0 days 06:30:00</td>\n",
       "      <td>29</td>\n",
       "    </tr>\n",
       "    <tr>\n",
       "      <th>carpooling</th>\n",
       "      <td>10043</td>\n",
       "      <td>37</td>\n",
       "      <td>0 days 02:00:00</td>\n",
       "      <td>1339</td>\n",
       "    </tr>\n",
       "    <tr>\n",
       "      <th>train</th>\n",
       "      <td>2439</td>\n",
       "      <td>487</td>\n",
       "      <td>0 days 02:31:00</td>\n",
       "      <td>62</td>\n",
       "    </tr>\n",
       "  </tbody>\n",
       "</table>\n",
       "</div>"
      ],
      "text/plain": [
       "                                count unique              top  freq\n",
       "classe_distance transport_type                                     \n",
       "long            bus              1101    295  0 days 17:30:00    26\n",
       "                carpooling        143     49  0 days 10:10:00    12\n",
       "                train             323    207  0 days 08:06:00    12\n",
       "medium          bus             11455    528  0 days 10:20:00   165\n",
       "                carpooling      31255     83  0 days 02:30:00  1858\n",
       "                train           16167   1461  0 days 03:47:00   204\n",
       "short           bus              1242    308  0 days 06:30:00    29\n",
       "                carpooling      10043     37  0 days 02:00:00  1339\n",
       "                train            2439    487  0 days 02:31:00    62"
      ]
     },
     "execution_count": 18,
     "metadata": {},
     "output_type": "execute_result"
    }
   ],
   "source": [
    "diff_dis= tickets.groupby(['classe_distance', 'transport_type'])['travel_duration'].describe()\n",
    "diff_dis"
   ]
  },
  {
   "cell_type": "code",
   "execution_count": 19,
   "metadata": {},
   "outputs": [
    {
     "data": {
      "text/html": [
       "<div>\n",
       "<style scoped>\n",
       "    .dataframe tbody tr th:only-of-type {\n",
       "        vertical-align: middle;\n",
       "    }\n",
       "\n",
       "    .dataframe tbody tr th {\n",
       "        vertical-align: top;\n",
       "    }\n",
       "\n",
       "    .dataframe thead tr th {\n",
       "        text-align: left;\n",
       "    }\n",
       "\n",
       "    .dataframe thead tr:last-of-type th {\n",
       "        text-align: right;\n",
       "    }\n",
       "</style>\n",
       "<table border=\"1\" class=\"dataframe\">\n",
       "  <thead>\n",
       "    <tr>\n",
       "      <th></th>\n",
       "      <th></th>\n",
       "      <th colspan=\"3\" halign=\"left\">price_in_cents</th>\n",
       "    </tr>\n",
       "    <tr>\n",
       "      <th></th>\n",
       "      <th></th>\n",
       "      <th>min</th>\n",
       "      <th>max</th>\n",
       "      <th>mean</th>\n",
       "    </tr>\n",
       "    <tr>\n",
       "      <th>classe_time</th>\n",
       "      <th>transport_type</th>\n",
       "      <th></th>\n",
       "      <th></th>\n",
       "      <th></th>\n",
       "    </tr>\n",
       "  </thead>\n",
       "  <tbody>\n",
       "    <tr>\n",
       "      <th rowspan=\"3\" valign=\"top\">long</th>\n",
       "      <th>bus</th>\n",
       "      <td>850</td>\n",
       "      <td>12130</td>\n",
       "      <td>3830.282729</td>\n",
       "    </tr>\n",
       "    <tr>\n",
       "      <th>carpooling</th>\n",
       "      <td>2150</td>\n",
       "      <td>11350</td>\n",
       "      <td>6873.446328</td>\n",
       "    </tr>\n",
       "    <tr>\n",
       "      <th>train</th>\n",
       "      <td>900</td>\n",
       "      <td>35100</td>\n",
       "      <td>8853.723958</td>\n",
       "    </tr>\n",
       "    <tr>\n",
       "      <th rowspan=\"3\" valign=\"top\">medium</th>\n",
       "      <th>bus</th>\n",
       "      <td>850</td>\n",
       "      <td>22480</td>\n",
       "      <td>3097.079900</td>\n",
       "    </tr>\n",
       "    <tr>\n",
       "      <th>carpooling</th>\n",
       "      <td>1550</td>\n",
       "      <td>9450</td>\n",
       "      <td>5396.190121</td>\n",
       "    </tr>\n",
       "    <tr>\n",
       "      <th>train</th>\n",
       "      <td>730</td>\n",
       "      <td>37550</td>\n",
       "      <td>10412.116576</td>\n",
       "    </tr>\n",
       "    <tr>\n",
       "      <th rowspan=\"3\" valign=\"top\">short</th>\n",
       "      <th>bus</th>\n",
       "      <td>950</td>\n",
       "      <td>12380</td>\n",
       "      <td>2458.202349</td>\n",
       "    </tr>\n",
       "    <tr>\n",
       "      <th>carpooling</th>\n",
       "      <td>700</td>\n",
       "      <td>13800</td>\n",
       "      <td>3317.481934</td>\n",
       "    </tr>\n",
       "    <tr>\n",
       "      <th>train</th>\n",
       "      <td>1070</td>\n",
       "      <td>38550</td>\n",
       "      <td>9263.145633</td>\n",
       "    </tr>\n",
       "    <tr>\n",
       "      <th rowspan=\"3\" valign=\"top\">too_long</th>\n",
       "      <th>bus</th>\n",
       "      <td>850</td>\n",
       "      <td>22900</td>\n",
       "      <td>4447.438960</td>\n",
       "    </tr>\n",
       "    <tr>\n",
       "      <th>carpooling</th>\n",
       "      <td>4750</td>\n",
       "      <td>16150</td>\n",
       "      <td>10608.974359</td>\n",
       "    </tr>\n",
       "    <tr>\n",
       "      <th>train</th>\n",
       "      <td>1270</td>\n",
       "      <td>30350</td>\n",
       "      <td>8792.962522</td>\n",
       "    </tr>\n",
       "    <tr>\n",
       "      <th rowspan=\"3\" valign=\"top\">too_short</th>\n",
       "      <th>bus</th>\n",
       "      <td>990</td>\n",
       "      <td>6240</td>\n",
       "      <td>2082.783784</td>\n",
       "    </tr>\n",
       "    <tr>\n",
       "      <th>carpooling</th>\n",
       "      <td>300</td>\n",
       "      <td>13450</td>\n",
       "      <td>1485.377409</td>\n",
       "    </tr>\n",
       "    <tr>\n",
       "      <th>train</th>\n",
       "      <td>490</td>\n",
       "      <td>24060</td>\n",
       "      <td>5157.092072</td>\n",
       "    </tr>\n",
       "  </tbody>\n",
       "</table>\n",
       "</div>"
      ],
      "text/plain": [
       "                           price_in_cents                     \n",
       "                                      min    max          mean\n",
       "classe_time transport_type                                    \n",
       "long        bus                       850  12130   3830.282729\n",
       "            carpooling               2150  11350   6873.446328\n",
       "            train                     900  35100   8853.723958\n",
       "medium      bus                       850  22480   3097.079900\n",
       "            carpooling               1550   9450   5396.190121\n",
       "            train                     730  37550  10412.116576\n",
       "short       bus                       950  12380   2458.202349\n",
       "            carpooling                700  13800   3317.481934\n",
       "            train                    1070  38550   9263.145633\n",
       "too_long    bus                       850  22900   4447.438960\n",
       "            carpooling               4750  16150  10608.974359\n",
       "            train                    1270  30350   8792.962522\n",
       "too_short   bus                       990   6240   2082.783784\n",
       "            carpooling                300  13450   1485.377409\n",
       "            train                     490  24060   5157.092072"
      ]
     },
     "execution_count": 19,
     "metadata": {},
     "output_type": "execute_result"
    }
   ],
   "source": [
    "diff_time= tickets.groupby(['classe_time', 'transport_type']).agg({'price_in_cents' : ['min', 'max', 'mean']})\n",
    "diff_time"
   ]
  },
  {
   "cell_type": "code",
   "execution_count": 24,
   "metadata": {},
   "outputs": [
    {
     "data": {
      "image/png": "[encoded data removed]",
      "text/plain": [
       "<Figure size 664.5x576 with 1 Axes>"
      ]
     },
     "metadata": {
      "needs_background": "light"
     },
     "output_type": "display_data"
    }
   ],
   "source": [
    "g = sns.lmplot(data=tickets, x='distance (km)', y='price_in_cents', hue='transport_type', markers='o', x_bins=70, height=8)\n",
    "g.fig.suptitle('Evolution des prix de différents moyens de transport en fonction de la distance', x=0.5, y=1.02)\n",
    "plt.xlabel('Distance (km)')\n",
    "plt.ylabel('Prix (€)');"
   ]
  },
  {
   "cell_type": "code",
   "execution_count": 28,
   "metadata": {},
   "outputs": [
    {
     "data": {
      "image/png": "[encoded data removed]",
      "text/plain": [
       "<Figure size 736.5x432 with 1 Axes>"
      ]
     },
     "metadata": {
      "needs_background": "light"
     },
     "output_type": "display_data"
    }
   ],
   "source": [
    "g = sns.catplot(x=\"classe_distance\", y=\"price_in_cents\", hue=\"transport_type\", kind=\"bar\", data=tickets, height=6, aspect=1.5)\n",
    "g.fig.suptitle('Prix moyens des différents moyens de transport en fonction de la distance', x=0.5, y=1.02)\n",
    "plt.xlabel('Distance (km)')\n",
    "plt.ylabel('Prix (€)');"
   ]
  },
  {
   "cell_type": "code",
   "execution_count": 30,
   "metadata": {},
   "outputs": [
    {
     "data": {
      "image/png": "[encoded data removed]",
      "text/plain": [
       "<Figure size 840.375x360 with 1 Axes>"
      ]
     },
     "metadata": {
      "needs_background": "light"
     },
     "output_type": "display_data"
    }
   ],
   "source": [
    "# Bus\n",
    "g = sns.catplot(x=\"classe_distance\", y=\"price_in_cents\", hue=\"fullname\", kind=\"bar\", data=tickets[tickets.transport_type == 'bus'], palette=\"Set2\", aspect=2)\n",
    "g.fig.suptitle('Prix pratiqués par les différents providers de bus selon la distance', x=0.5, y=1.02)\n",
    "plt.xlabel('Distance (km)')\n",
    "plt.ylabel('Prix (€)');"
   ]
  },
  {
   "cell_type": "code",
   "execution_count": 31,
   "metadata": {},
   "outputs": [
    {
     "data": {
      "image/png": "[encoded data removed]",
      "text/plain": [
       "<Figure size 842.125x360 with 1 Axes>"
      ]
     },
     "metadata": {
      "needs_background": "light"
     },
     "output_type": "display_data"
    }
   ],
   "source": [
    "# Train\n",
    "g = sns.catplot(x=\"classe_distance\", y=\"price_in_cents\", hue=\"fullname\", kind=\"bar\", data=tickets[tickets.transport_type == 'train'], palette=\"Set2\", aspect=2)\n",
    "g.fig.suptitle('Prix pratiqués par les différents providers de train selon la distance', x=0.5, y=1.02)\n",
    "plt.xlabel('Distance (km)')\n",
    "plt.ylabel('Prix (€)');"
   ]
  },
  {
   "cell_type": "code",
   "execution_count": 32,
   "metadata": {},
   "outputs": [
    {
     "data": {
      "image/png": "[encoded data removed]",
      "text/plain": [
       "<Figure size 802.875x360 with 1 Axes>"
      ]
     },
     "metadata": {
      "needs_background": "light"
     },
     "output_type": "display_data"
    }
   ],
   "source": [
    "# Train\n",
    "g = sns.catplot(x=\"classe_distance\", y=\"price_in_cents\", hue=\"fullname\", kind=\"bar\", data=tickets[tickets.transport_type == 'carpooling'], palette=\"Set2\", aspect=2)\n",
    "g.fig.suptitle('Prix pratiqués par les différents providers de train selon la distance', x=0.5, y=1.02)\n",
    "plt.xlabel('Distance (km)')\n",
    "plt.ylabel('Prix (€)');"
   ]
  },
  {
   "cell_type": "code",
   "execution_count": null,
   "metadata": {},
   "outputs": [],
   "source": []
  }
 ],
 "metadata": {
  "kernelspec": {
   "display_name": "Python 3",
   "language": "python",
   "name": "python3"
  },
  "language_info": {
   "codemirror_mode": {
    "name": "ipython",
    "version": 3
   },
   "file_extension": ".py",
   "mimetype": "text/x-python",
   "name": "python",
   "nbconvert_exporter": "python",
   "pygments_lexer": "ipython3",
   "version": "3.8.5"
  }
 },
 "nbformat": 4,
 "nbformat_minor": 4
}
